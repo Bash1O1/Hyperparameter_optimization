{
  "cells": [
    {
      "cell_type": "code",
      "execution_count": 94,
      "metadata": {
        "id": "ZRTwWCi6k_cu"
      },
      "outputs": [],
      "source": [
        "import pandas as pd\n",
        "import numpy as np\n",
        "from sklearn import ensemble\n",
        "from sklearn import metrics\n",
        "from sklearn import model_selection\n",
        "from sklearn import preprocessing\n",
        "from sklearn import decomposition\n",
        "from sklearn import pipeline"
      ]
    },
    {
      "cell_type": "code",
      "execution_count": 95,
      "metadata": {
        "colab": {
          "base_uri": "https://localhost:8080/"
        },
        "id": "LP8OZh9wk_cz",
        "outputId": "85d3af96-a982-415f-bb7a-d9f44b33de80"
      },
      "outputs": [
        {
          "output_type": "stream",
          "name": "stdout",
          "text": [
            "<class 'pandas.core.frame.DataFrame'>\n",
            "RangeIndex: 2000 entries, 0 to 1999\n",
            "Data columns (total 21 columns):\n",
            " #   Column         Non-Null Count  Dtype  \n",
            "---  ------         --------------  -----  \n",
            " 0   battery_power  2000 non-null   int64  \n",
            " 1   blue           2000 non-null   int64  \n",
            " 2   clock_speed    2000 non-null   float64\n",
            " 3   dual_sim       2000 non-null   int64  \n",
            " 4   fc             2000 non-null   int64  \n",
            " 5   four_g         2000 non-null   int64  \n",
            " 6   int_memory     2000 non-null   int64  \n",
            " 7   m_dep          2000 non-null   float64\n",
            " 8   mobile_wt      2000 non-null   int64  \n",
            " 9   n_cores        2000 non-null   int64  \n",
            " 10  pc             2000 non-null   int64  \n",
            " 11  px_height      2000 non-null   int64  \n",
            " 12  px_width       2000 non-null   int64  \n",
            " 13  ram            2000 non-null   int64  \n",
            " 14  sc_h           2000 non-null   int64  \n",
            " 15  sc_w           2000 non-null   int64  \n",
            " 16  talk_time      2000 non-null   int64  \n",
            " 17  three_g        2000 non-null   int64  \n",
            " 18  touch_screen   2000 non-null   int64  \n",
            " 19  wifi           2000 non-null   int64  \n",
            " 20  price_range    2000 non-null   int64  \n",
            "dtypes: float64(2), int64(19)\n",
            "memory usage: 328.2 KB\n",
            "None\n"
          ]
        }
      ],
      "source": [
        "# Load the Dataset\n",
        "df = pd.read_csv('train.csv')\n",
        "\n",
        "# Display the first few rows of the dataset\n",
        "print(df.info())"
      ]
    },
    {
      "cell_type": "code",
      "execution_count": 96,
      "metadata": {
        "id": "OUYscmqMk_c0"
      },
      "outputs": [],
      "source": [
        "# Dropping the price range coloumn form datasheet and storing it in X\n",
        "X  = df.drop('price_range', axis = 1).values\n",
        "# Storing the price range coloumn in y\n",
        "y  = df['price_range'].values"
      ]
    },
    {
      "cell_type": "markdown",
      "metadata": {
        "id": "pw2wyFObk_c1"
      },
      "source": [
        "# Bayesian optimization"
      ]
    },
    {
      "cell_type": "code",
      "execution_count": 97,
      "metadata": {
        "id": "i3RUric7k_c1"
      },
      "outputs": [],
      "source": [
        "# optimization function for hyperparameter optimization using Bayesian optimisation\n",
        "def optimize(params, param_names, x, y, list_of_all_params):\n",
        "    print(params, param_names)\n",
        "    # storing all set of parameters values(params) in a list\n",
        "    list_of_all_params.append(params)\n",
        "    #converting params(list) in to params(dictionary)\n",
        "    params = dict(zip(param_names, params))  #this will not work if we are tuning the params of different models\n",
        "    model  = ensemble.RandomForestClassifier(**params, n_jobs=-1, random_state=42) #unpacing of params dict into parameters of RandomForestClassifier\n",
        "    kf     = model_selection.StratifiedKFold(n_splits = 5)\n",
        "\n",
        "    accuracies = []\n",
        "    for idx in kf.split(X=x, y=y):\n",
        "        train_idx, test_idx = idx[0], idx[1]\n",
        "\n",
        "        xtrain = x[train_idx]\n",
        "        ytrain = y[train_idx]\n",
        "        xtest = x[test_idx]\n",
        "        ytest = y[test_idx]\n",
        "\n",
        "        model.fit(xtrain, ytrain)\n",
        "        preds = model.predict(xtest)\n",
        "        fold_acc = metrics.accuracy_score(ytest, preds)\n",
        "\n",
        "        accuracies.append(fold_acc)\n",
        "\n",
        "    return -1*np.mean(accuracies)"
      ]
    },
    {
      "cell_type": "code",
      "source": [
        "from functools import partial\n",
        "from skopt import space\n",
        "from skopt import gp_minimize"
      ],
      "metadata": {
        "id": "z5RXctMamO_o"
      },
      "execution_count": 98,
      "outputs": []
    },
    {
      "cell_type": "code",
      "execution_count": 99,
      "metadata": {
        "id": "9hYY25egk_c2"
      },
      "outputs": [],
      "source": [
        "# Initialize a search space of max_depth, n_estimators, criterion and max_features\n",
        "param_space = [\n",
        "    space.Integer(3, 15, name=\"max_depth\"),\n",
        "    space.Integer(100, 600, name=\"n_estimators\"),\n",
        "    space.Categorical([\"gini\", \"entropy\"], name=\"criterion\"),\n",
        "    space.Real(0.01, 1, prior = \"uniform\", name=\"max_features\")\n",
        "]"
      ]
    },
    {
      "cell_type": "code",
      "execution_count": 100,
      "metadata": {
        "colab": {
          "base_uri": "https://localhost:8080/"
        },
        "id": "0insaWt4k_c3",
        "outputId": "f4c5a71c-0ed6-4ae8-932d-7273139635de"
      },
      "outputs": [
        {
          "output_type": "execute_result",
          "data": {
            "text/plain": [
              "['max_depth', 'n_estimators', 'criterion', 'max_features']"
            ]
          },
          "metadata": {},
          "execution_count": 100
        }
      ],
      "source": [
        "param_names  = [\"max_depth\", \"n_estimators\", \"criterion\", \"max_features\" ]\n",
        "param_names"
      ]
    },
    {
      "cell_type": "code",
      "execution_count": 101,
      "metadata": {
        "id": "hsbZEKuVk_c3"
      },
      "outputs": [],
      "source": [
        "#Creating a list to store all set of params value of each iteration\n",
        "list_of_all_params = []\n",
        "optimization_func = partial(optimize, param_names = param_names, x = X, y = y, list_of_all_params = list_of_all_params)"
      ]
    },
    {
      "cell_type": "code",
      "execution_count": 102,
      "metadata": {
        "colab": {
          "base_uri": "https://localhost:8080/"
        },
        "id": "3ujCzLQOk_c4",
        "outputId": "0657d506-8028-469d-aee1-2408a0f43196"
      },
      "outputs": [
        {
          "output_type": "stream",
          "name": "stdout",
          "text": [
            "Iteration No: 1 started. Evaluating function at random point.\n",
            "[6, 532, 'entropy', 0.17750188714355203] ['max_depth', 'n_estimators', 'criterion', 'max_features']\n",
            "Iteration No: 1 ended. Evaluation done at random point.\n",
            "Time taken: 13.8131\n",
            "Function value obtained: -0.8395\n",
            "Current minimum: -0.8395\n",
            "Iteration No: 2 started. Evaluating function at random point.\n",
            "[3, 310, 'entropy', 0.9007568482553305] ['max_depth', 'n_estimators', 'criterion', 'max_features']\n",
            "Iteration No: 2 ended. Evaluation done at random point.\n",
            "Time taken: 12.6109\n",
            "Function value obtained: -0.7650\n",
            "Current minimum: -0.8395\n",
            "Iteration No: 3 started. Evaluating function at random point.\n",
            "[5, 335, 'gini', 0.8451888042739593] ['max_depth', 'n_estimators', 'criterion', 'max_features']\n",
            "Iteration No: 3 ended. Evaluation done at random point.\n",
            "Time taken: 9.1605\n",
            "Function value obtained: -0.8700\n",
            "Current minimum: -0.8700\n",
            "Iteration No: 4 started. Evaluating function at random point.\n",
            "[14, 142, 'entropy', 0.9300766632402941] ['max_depth', 'n_estimators', 'criterion', 'max_features']\n",
            "Iteration No: 4 ended. Evaluation done at random point.\n",
            "Time taken: 7.6369\n",
            "Function value obtained: -0.9050\n",
            "Current minimum: -0.9050\n",
            "Iteration No: 5 started. Evaluating function at random point.\n",
            "[11, 493, 'entropy', 0.47584290920523103] ['max_depth', 'n_estimators', 'criterion', 'max_features']\n",
            "Iteration No: 5 ended. Evaluation done at random point.\n",
            "Time taken: 16.8973\n",
            "Function value obtained: -0.9055\n",
            "Current minimum: -0.9055\n",
            "Iteration No: 6 started. Evaluating function at random point.\n",
            "[6, 419, 'gini', 0.6556244826938277] ['max_depth', 'n_estimators', 'criterion', 'max_features']\n",
            "Iteration No: 6 ended. Evaluation done at random point.\n",
            "Time taken: 12.6478\n",
            "Function value obtained: -0.8835\n",
            "Current minimum: -0.9055\n",
            "Iteration No: 7 started. Evaluating function at random point.\n",
            "[7, 385, 'entropy', 0.39591778345377104] ['max_depth', 'n_estimators', 'criterion', 'max_features']\n",
            "Iteration No: 7 ended. Evaluation done at random point.\n",
            "Time taken: 11.4800\n",
            "Function value obtained: -0.8905\n",
            "Current minimum: -0.9055\n",
            "Iteration No: 8 started. Evaluating function at random point.\n",
            "[12, 217, 'entropy', 0.5127087994361123] ['max_depth', 'n_estimators', 'criterion', 'max_features']\n",
            "Iteration No: 8 ended. Evaluation done at random point.\n",
            "Time taken: 8.1346\n",
            "Function value obtained: -0.9065\n",
            "Current minimum: -0.9065\n",
            "Iteration No: 9 started. Evaluating function at random point.\n",
            "[6, 450, 'entropy', 0.7207320484779698] ['max_depth', 'n_estimators', 'criterion', 'max_features']\n",
            "Iteration No: 9 ended. Evaluation done at random point.\n",
            "Time taken: 16.9548\n",
            "Function value obtained: -0.8940\n",
            "Current minimum: -0.9065\n",
            "Iteration No: 10 started. Evaluating function at random point.\n",
            "[13, 497, 'gini', 0.9597927574379043] ['max_depth', 'n_estimators', 'criterion', 'max_features']\n",
            "Iteration No: 10 ended. Evaluation done at random point.\n",
            "Time taken: 22.7425\n",
            "Function value obtained: -0.8945\n",
            "Current minimum: -0.9065\n",
            "Iteration No: 11 started. Searching for the next optimal point.\n",
            "[15, 100, 'entropy', 0.01] ['max_depth', 'n_estimators', 'criterion', 'max_features']\n",
            "Iteration No: 11 ended. Search finished for the next optimal point.\n",
            "Time taken: 3.3356\n",
            "Function value obtained: -0.7280\n",
            "Current minimum: -0.9065\n",
            "Iteration No: 12 started. Searching for the next optimal point.\n",
            "[8, 100, 'entropy', 1.0] ['max_depth', 'n_estimators', 'criterion', 'max_features']\n",
            "Iteration No: 12 ended. Search finished for the next optimal point.\n",
            "Time taken: 5.0570\n",
            "Function value obtained: -0.9045\n",
            "Current minimum: -0.9065\n",
            "Iteration No: 13 started. Searching for the next optimal point.\n",
            "[7, 456, 'entropy', 0.8537050724550479] ['max_depth', 'n_estimators', 'criterion', 'max_features']\n",
            "Iteration No: 13 ended. Search finished for the next optimal point.\n",
            "Time taken: 21.6166\n",
            "Function value obtained: -0.9010\n",
            "Current minimum: -0.9065\n",
            "Iteration No: 14 started. Searching for the next optimal point.\n",
            "[10, 100, 'entropy', 0.6055973936204752] ['max_depth', 'n_estimators', 'criterion', 'max_features']\n",
            "Iteration No: 14 ended. Search finished for the next optimal point.\n",
            "Time taken: 4.0307\n",
            "Function value obtained: -0.9035\n",
            "Current minimum: -0.9065\n",
            "Iteration No: 15 started. Searching for the next optimal point.\n",
            "[15, 100, 'entropy', 1.0] ['max_depth', 'n_estimators', 'criterion', 'max_features']\n",
            "Iteration No: 15 ended. Search finished for the next optimal point.\n",
            "Time taken: 5.2607\n",
            "Function value obtained: -0.9035\n",
            "Current minimum: -0.9065\n"
          ]
        }
      ],
      "source": [
        "# storing the best parameters in result\n",
        "result = gp_minimize(optimization_func, dimensions = param_space, n_calls = 15, n_random_starts = 10, verbose = 10)"
      ]
    },
    {
      "cell_type": "code",
      "source": [
        "print(list_of_all_params)\n",
        "print(len(list_of_all_params))"
      ],
      "metadata": {
        "colab": {
          "base_uri": "https://localhost:8080/"
        },
        "id": "utKMDYHO89n9",
        "outputId": "16d7381e-0650-4ab8-e5b9-e154f1fcc166"
      },
      "execution_count": 103,
      "outputs": [
        {
          "output_type": "stream",
          "name": "stdout",
          "text": [
            "[[6, 532, 'entropy', 0.17750188714355203], [3, 310, 'entropy', 0.9007568482553305], [5, 335, 'gini', 0.8451888042739593], [14, 142, 'entropy', 0.9300766632402941], [11, 493, 'entropy', 0.47584290920523103], [6, 419, 'gini', 0.6556244826938277], [7, 385, 'entropy', 0.39591778345377104], [12, 217, 'entropy', 0.5127087994361123], [6, 450, 'entropy', 0.7207320484779698], [13, 497, 'gini', 0.9597927574379043], [15, 100, 'entropy', 0.01], [8, 100, 'entropy', 1.0], [7, 456, 'entropy', 0.8537050724550479], [10, 100, 'entropy', 0.6055973936204752], [15, 100, 'entropy', 1.0]]\n",
            "15\n"
          ]
        }
      ]
    },
    {
      "cell_type": "code",
      "source": [
        "print(result)"
      ],
      "metadata": {
        "collapsed": true,
        "id": "ZIdloyoazf2v"
      },
      "execution_count": null,
      "outputs": []
    },
    {
      "cell_type": "code",
      "execution_count": 105,
      "metadata": {
        "colab": {
          "base_uri": "https://localhost:8080/"
        },
        "id": "aaAmuxd0k_c4",
        "outputId": "f86ae267-ae74-4539-b108-f96a38afb9aa"
      },
      "outputs": [
        {
          "output_type": "stream",
          "name": "stdout",
          "text": [
            "{'max_depth': 12, 'n_estimators': 217, 'criterion': 'entropy', 'max_features': 0.5127087994361123}\n"
          ]
        }
      ],
      "source": [
        "#Printing the set of best hyperparameter values in dictionary format\n",
        "print(dict(zip(param_names, result.x)))"
      ]
    },
    {
      "cell_type": "code",
      "source": [
        "# storing the best values in a list\n",
        "best_params = result.x\n",
        "print(best_params)"
      ],
      "metadata": {
        "colab": {
          "base_uri": "https://localhost:8080/"
        },
        "id": "usVm2XFwogWI",
        "outputId": "ef4112aa-34e7-46b8-e41e-65e80930e272"
      },
      "execution_count": 106,
      "outputs": [
        {
          "output_type": "stream",
          "name": "stdout",
          "text": [
            "[12, 217, 'entropy', 0.5127087994361123]\n"
          ]
        }
      ]
    },
    {
      "cell_type": "code",
      "execution_count": 107,
      "metadata": {
        "id": "fpemVwJ3k_c5"
      },
      "outputs": [],
      "source": [
        "#setting the best hyperparameter values in the classifier\n",
        "classifier = ensemble.RandomForestClassifier(criterion =best_params[2], max_depth = int(best_params[0]), n_estimators = int(best_params[1]),\n",
        "                                             max_features = float(best_params[3]), n_jobs=-1, random_state=42)\n"
      ]
    },
    {
      "cell_type": "code",
      "execution_count": 108,
      "metadata": {
        "colab": {
          "base_uri": "https://localhost:8080/"
        },
        "id": "vR2z4orUk_c5",
        "outputId": "249be0bc-f99c-4f5f-8b0b-6c671e6e7e31"
      },
      "outputs": [
        {
          "output_type": "stream",
          "name": "stdout",
          "text": [
            "scores\n",
            " [0.92  0.92  0.92  0.915 0.915 0.935 0.89  0.91  0.885 0.9  ]\n",
            "\n",
            "cv values (10,)\n",
            "\n",
            "Score_Mean 0.9110000000000001\n"
          ]
        }
      ],
      "source": [
        "from sklearn.model_selection import cross_val_score\n",
        "\n",
        "# Calculation of the cross validation score\n",
        "score = cross_val_score(classifier,X,y, cv=10)\n",
        "print('scores\\n',score)\n",
        "print('\\ncv values', score.shape)\n",
        "print('\\nScore_Mean', score.mean())"
      ]
    },
    {
      "cell_type": "code",
      "execution_count": 109,
      "metadata": {
        "id": "YcNnjkywk_c6"
      },
      "outputs": [],
      "source": [
        "from sklearn.model_selection import train_test_split"
      ]
    },
    {
      "cell_type": "code",
      "execution_count": 110,
      "metadata": {
        "id": "xZggk5Rgk_c7"
      },
      "outputs": [],
      "source": [
        "x_train , x_test , y_train , y_test = train_test_split(X,y,test_size=0.2)"
      ]
    },
    {
      "cell_type": "code",
      "source": [
        "scaling_x = [i for i in range(1, 16, 1)]\n",
        "print(scaling_x)"
      ],
      "metadata": {
        "colab": {
          "base_uri": "https://localhost:8080/"
        },
        "id": "Zi3a18rxAN3a",
        "outputId": "4b86bdf7-4057-4410-d758-95e37ab40f86"
      },
      "execution_count": 111,
      "outputs": [
        {
          "output_type": "stream",
          "name": "stdout",
          "text": [
            "[1, 2, 3, 4, 5, 6, 7, 8, 9, 10, 11, 12, 13, 14, 15]\n"
          ]
        }
      ]
    },
    {
      "cell_type": "code",
      "execution_count": 112,
      "metadata": {
        "id": "iQbGej16k_c7"
      },
      "outputs": [],
      "source": [
        "from sklearn.ensemble import RandomForestClassifier\n",
        "classifier = RandomForestClassifier(criterion =best_params[2], max_depth = int(best_params[0]), n_estimators = int(best_params[1]),\n",
        "                                             max_features = float(best_params[3]), n_jobs=-1, random_state=42)"
      ]
    },
    {
      "cell_type": "code",
      "execution_count": 113,
      "metadata": {
        "colab": {
          "base_uri": "https://localhost:8080/"
        },
        "id": "3aeU9T7Mk_c8",
        "outputId": "d46d24ca-2a0c-45ce-e6ce-a951c3a61ae4"
      },
      "outputs": [
        {
          "output_type": "stream",
          "name": "stdout",
          "text": [
            "ROC AUC (One-vs-Rest): 0.9886230427185418\n"
          ]
        }
      ],
      "source": [
        "from sklearn import metrics\n",
        "import numpy as np\n",
        "from sklearn.metrics import roc_auc_score\n",
        "\n",
        "# Example data (replace with your actual data)\n",
        "classifier.fit(x_train, y_train)\n",
        "\n",
        "y_score =  classifier.predict_proba(x_test)  # Predicted probabilities for all classes\n",
        "roc_auc = roc_auc_score(y_test, y_score, multi_class='ovr')\n",
        "print(\"ROC AUC (One-vs-Rest):\", roc_auc)"
      ]
    },
    {
      "cell_type": "code",
      "source": [
        "# Plot of the Learning Rate Distribution Curve\n",
        "from sklearn.ensemble import RandomForestClassifier\n",
        "from sklearn import metrics\n",
        "import numpy as np\n",
        "from sklearn.metrics import roc_auc_score\n",
        "import matplotlib.pyplot as plt\n",
        "\n",
        "# Creating a list for storing all train ROC Scores\n",
        "train_scores = []\n",
        "#Creating a list for storing all Validation ROC Scores\n",
        "val_scores = []\n",
        "#Creating a list for storing all Validation ROC Scores for Bayesian optimization for further comparison w.r.t hyperopt optimization\n",
        "roc_score_BO = []\n",
        "for para in list_of_all_params:\n",
        "    # Initialize classifier with current n_estimators\n",
        "    classifier = RandomForestClassifier(criterion =para[2], max_depth = int(para[0]), n_estimators = int(para[1]),\n",
        "                                             max_features = float(para[3]), n_jobs=-1, random_state=42)\n",
        "\n",
        "    # Train the classifier\n",
        "    classifier.fit(x_train, y_train)\n",
        "\n",
        "    # Predict probabilities for ROC AUC calculation\n",
        "    y_train_score = classifier.predict_proba(x_train)\n",
        "    y_val_score = classifier.predict_proba(x_test)\n",
        "\n",
        "    # Compute ROC AUC scores\n",
        "    train_roc_auc = roc_auc_score(y_train, y_train_score, multi_class='ovr')\n",
        "    val_roc_auc = roc_auc_score(y_test, y_val_score, multi_class='ovr')\n",
        "\n",
        "    # Store scores\n",
        "    train_scores.append(train_roc_auc)\n",
        "    val_scores.append(val_roc_auc)\n",
        "    roc_score_BO.append(val_roc_auc)\n",
        "\n",
        "\n",
        "# Plotting the learning curves\n",
        "plt.figure(figsize=(10, 4))\n",
        "plt.plot(scaling_x, train_scores, marker='o', label='Training ROC AUC')\n",
        "plt.plot(scaling_x, val_scores, marker='o', label='Validation ROC AUC')\n",
        "plt.xlabel('Number of Iterations')\n",
        "plt.ylabel('ROC AUC Score')\n",
        "plt.title('Learning Curve')\n",
        "plt.legend()\n",
        "plt.grid(True)\n",
        "plt.tight_layout()\n",
        "plt.show()\n",
        "\n"
      ],
      "metadata": {
        "colab": {
          "base_uri": "https://localhost:8080/",
          "height": 407
        },
        "collapsed": true,
        "id": "G3cX4zOd3tDy",
        "outputId": "bb1e1d05-3a08-493e-c529-b0d4f83ea6d7"
      },
      "execution_count": 114,
      "outputs": [
        {
          "output_type": "display_data",
          "data": {
            "text/plain": [
              "<Figure size 1000x400 with 1 Axes>"
            ],
            "image/png": "[encoded data removed]"
          },
          "metadata": {}
        }
      ]
    },
    {
      "cell_type": "markdown",
      "metadata": {
        "id": "slQc3fxdk_c9"
      },
      "source": [
        "# Random Forest (Random Hyperparameters value)"
      ]
    },
    {
      "cell_type": "code",
      "execution_count": 134,
      "metadata": {
        "id": "3uEeEPMzk_c-"
      },
      "outputs": [],
      "source": [
        "import pandas as pd\n",
        "import numpy as np\n",
        "import matplotlib.pyplot as plt\n",
        "import seaborn as sns\n",
        "import plotly.express as px\n",
        "from plotly.offline import iplot , plot\n",
        "from plotly.subplots import make_subplots\n",
        "from sklearn.model_selection import train_test_split , GridSearchCV\n",
        "from sklearn.metrics import ConfusionMatrixDisplay\n",
        "from sklearn.preprocessing import MinMaxScaler\n",
        "from sklearn.svm import SVC\n",
        "from sklearn.ensemble import RandomForestClassifier\n",
        "from sklearn.linear_model import LogisticRegression\n",
        "import warnings\n",
        "warnings.filterwarnings('ignore')"
      ]
    },
    {
      "cell_type": "code",
      "execution_count": 135,
      "metadata": {
        "id": "odHC5C5ok_c-"
      },
      "outputs": [],
      "source": [
        "x_train , x_test , y_train , y_test = train_test_split(X,y,test_size=0.2)"
      ]
    },
    {
      "cell_type": "code",
      "execution_count": 136,
      "metadata": {
        "colab": {
          "base_uri": "https://localhost:8080/",
          "height": 74
        },
        "id": "gP06-k3Mk_c-",
        "outputId": "a0edaf31-13cf-4b96-ea68-69c37c533b48"
      },
      "outputs": [
        {
          "output_type": "execute_result",
          "data": {
            "text/plain": [
              "RandomForestClassifier(n_estimators=10, n_jobs=-1, random_state=42)"
            ],
            "text/html": [
              "<style>#sk-container-id-5 {color: black;background-color: white;}#sk-container-id-5 pre{padding: 0;}#sk-container-id-5 div.sk-toggleable {background-color: white;}#sk-container-id-5 label.sk-toggleable__label {cursor: pointer;display: block;width: 100%;margin-bottom: 0;padding: 0.3em;box-sizing: border-box;text-align: center;}#sk-container-id-5 label.sk-toggleable__label-arrow:before {content: \"▸\";float: left;margin-right: 0.25em;color: #696969;}#sk-container-id-5 label.sk-toggleable__label-arrow:hover:before {color: black;}#sk-container-id-5 div.sk-estimator:hover label.sk-toggleable__label-arrow:before {color: black;}#sk-container-id-5 div.sk-toggleable__content {max-height: 0;max-width: 0;overflow: hidden;text-align: left;background-color: #f0f8ff;}#sk-container-id-5 div.sk-toggleable__content pre {margin: 0.2em;color: black;border-radius: 0.25em;background-color: #f0f8ff;}#sk-container-id-5 input.sk-toggleable__control:checked~div.sk-toggleable__content {max-height: 200px;max-width: 100%;overflow: auto;}#sk-container-id-5 input.sk-toggleable__control:checked~label.sk-toggleable__label-arrow:before {content: \"▾\";}#sk-container-id-5 div.sk-estimator input.sk-toggleable__control:checked~label.sk-toggleable__label {background-color: #d4ebff;}#sk-container-id-5 div.sk-label input.sk-toggleable__control:checked~label.sk-toggleable__label {background-color: #d4ebff;}#sk-container-id-5 input.sk-hidden--visually {border: 0;clip: rect(1px 1px 1px 1px);clip: rect(1px, 1px, 1px, 1px);height: 1px;margin: -1px;overflow: hidden;padding: 0;position: absolute;width: 1px;}#sk-container-id-5 div.sk-estimator {font-family: monospace;background-color: #f0f8ff;border: 1px dotted black;border-radius: 0.25em;box-sizing: border-box;margin-bottom: 0.5em;}#sk-container-id-5 div.sk-estimator:hover {background-color: #d4ebff;}#sk-container-id-5 div.sk-parallel-item::after {content: \"\";width: 100%;border-bottom: 1px solid gray;flex-grow: 1;}#sk-container-id-5 div.sk-label:hover label.sk-toggleable__label {background-color: #d4ebff;}#sk-container-id-5 div.sk-serial::before {content: \"\";position: absolute;border-left: 1px solid gray;box-sizing: border-box;top: 0;bottom: 0;left: 50%;z-index: 0;}#sk-container-id-5 div.sk-serial {display: flex;flex-direction: column;align-items: center;background-color: white;padding-right: 0.2em;padding-left: 0.2em;position: relative;}#sk-container-id-5 div.sk-item {position: relative;z-index: 1;}#sk-container-id-5 div.sk-parallel {display: flex;align-items: stretch;justify-content: center;background-color: white;position: relative;}#sk-container-id-5 div.sk-item::before, #sk-container-id-5 div.sk-parallel-item::before {content: \"\";position: absolute;border-left: 1px solid gray;box-sizing: border-box;top: 0;bottom: 0;left: 50%;z-index: -1;}#sk-container-id-5 div.sk-parallel-item {display: flex;flex-direction: column;z-index: 1;position: relative;background-color: white;}#sk-container-id-5 div.sk-parallel-item:first-child::after {align-self: flex-end;width: 50%;}#sk-container-id-5 div.sk-parallel-item:last-child::after {align-self: flex-start;width: 50%;}#sk-container-id-5 div.sk-parallel-item:only-child::after {width: 0;}#sk-container-id-5 div.sk-dashed-wrapped {border: 1px dashed gray;margin: 0 0.4em 0.5em 0.4em;box-sizing: border-box;padding-bottom: 0.4em;background-color: white;}#sk-container-id-5 div.sk-label label {font-family: monospace;font-weight: bold;display: inline-block;line-height: 1.2em;}#sk-container-id-5 div.sk-label-container {text-align: center;}#sk-container-id-5 div.sk-container {/* jupyter's `normalize.less` sets `[hidden] { display: none; }` but bootstrap.min.css set `[hidden] { display: none !important; }` so we also need the `!important` here to be able to override the default hidden behavior on the sphinx rendered scikit-learn.org. See: https://github.com/scikit-learn/scikit-learn/issues/21755 */display: inline-block !important;position: relative;}#sk-container-id-5 div.sk-text-repr-fallback {display: none;}</style><div id=\"sk-container-id-5\" class=\"sk-top-container\"><div class=\"sk-text-repr-fallback\"><pre>RandomForestClassifier(n_estimators=10, n_jobs=-1, random_state=42)</pre><b>In a Jupyter environment, please rerun this cell to show the HTML representation or trust the notebook. <br />On GitHub, the HTML representation is unable to render, please try loading this page with nbviewer.org.</b></div><div class=\"sk-container\" hidden><div class=\"sk-item\"><div class=\"sk-estimator sk-toggleable\"><input class=\"sk-toggleable__control sk-hidden--visually\" id=\"sk-estimator-id-5\" type=\"checkbox\" checked><label for=\"sk-estimator-id-5\" class=\"sk-toggleable__label sk-toggleable__label-arrow\">RandomForestClassifier</label><div class=\"sk-toggleable__content\"><pre>RandomForestClassifier(n_estimators=10, n_jobs=-1, random_state=42)</pre></div></div></div></div></div>"
            ]
          },
          "metadata": {},
          "execution_count": 136
        }
      ],
      "source": [
        "model_RFC = RandomForestClassifier(n_estimators=10,n_jobs=-1, random_state=42)\n",
        "model_RFC.fit(x_train,y_train)"
      ]
    },
    {
      "cell_type": "code",
      "execution_count": 137,
      "metadata": {
        "id": "iyor_zITk_c-"
      },
      "outputs": [],
      "source": [
        "from sklearn import metrics\n",
        "from sklearn.model_selection import train_test_split\n",
        "from sklearn.ensemble import RandomForestClassifier"
      ]
    },
    {
      "cell_type": "code",
      "execution_count": 138,
      "metadata": {
        "colab": {
          "base_uri": "https://localhost:8080/"
        },
        "id": "891QMHSgk_c_",
        "outputId": "f7154996-6cb9-4911-9a42-2bfcf9870a8e"
      },
      "outputs": [
        {
          "output_type": "stream",
          "name": "stdout",
          "text": [
            "ROC AUC (One-vs-Rest): 0.9422483675581909\n"
          ]
        }
      ],
      "source": [
        "from sklearn import metrics\n",
        "import numpy as np\n",
        "from sklearn.metrics import roc_auc_score\n",
        "\n",
        "# Example data (replace with your actual data)\n",
        "\n",
        "y_score = model_RFC.predict_proba(x_test)  # Predicted probabilities for all classes\n",
        "roc_auc = roc_auc_score(y_test, y_score, multi_class='ovr')\n",
        "print(\"ROC AUC (One-vs-Rest):\", roc_auc)\n"
      ]
    },
    {
      "cell_type": "code",
      "execution_count": 139,
      "metadata": {
        "colab": {
          "base_uri": "https://localhost:8080/"
        },
        "id": "HMoSrIxOk_c_",
        "outputId": "896ae169-18bf-405f-f654-c36021dd9623"
      },
      "outputs": [
        {
          "output_type": "stream",
          "name": "stdout",
          "text": [
            "scores\n",
            " [0.795 0.805 0.83  0.79  0.83  0.795 0.78  0.86  0.79  0.78 ]\n",
            "\n",
            "cv values (10,)\n",
            "\n",
            "Score_Mean 0.8055\n"
          ]
        }
      ],
      "source": [
        "# Perform 10-fold cross-validation\n",
        "score = cross_val_score(model_RFC, X, y, cv=10)\n",
        "\n",
        "# Print the scores\n",
        "print('scores\\n', score)\n",
        "\n",
        "# Print the shape of the scores array\n",
        "print('\\ncv values', score.shape)\n",
        "\n",
        "# Print the mean score\n",
        "print('\\nScore_Mean', score.mean())"
      ]
    },
    {
      "cell_type": "markdown",
      "metadata": {
        "id": "yqmxgxPCk_c_"
      },
      "source": [
        "# hyperopt"
      ]
    },
    {
      "cell_type": "code",
      "execution_count": 121,
      "metadata": {
        "id": "KTGsUZ7Ek_dA"
      },
      "outputs": [],
      "source": [
        "from hyperopt import hp, fmin, tpe, Trials\n",
        "from hyperopt.pyll.base import scope"
      ]
    },
    {
      "cell_type": "code",
      "execution_count": 122,
      "metadata": {
        "id": "eGYj76a8k_dA"
      },
      "outputs": [],
      "source": [
        "# Optimization Function for obtaining best hyperparameter values.\n",
        "def optimize(params, x, y, list_of_all_params_hyperopt):\n",
        "    #storing the list of set of hyperparameters values in each iteration\n",
        "    list_of_all_params_hyperopt.append(list(params.values()));\n",
        "    model = ensemble.RandomForestClassifier(**params,n_jobs=-1, random_state=42)\n",
        "    kf = model_selection.KFold(n_splits=5)\n",
        "    accuracies = []\n",
        "    for idx in kf.split(X=x, y=y):\n",
        "        train_idx, test_idx = idx[0], idx[1]\n",
        "        xtrain = x[train_idx]\n",
        "        ytrain = y[train_idx]\n",
        "\n",
        "        xtest = x[test_idx]\n",
        "        ytest = y[test_idx]\n",
        "\n",
        "        model.fit(xtrain, ytrain)\n",
        "        preds = model.predict(xtest)\n",
        "        fold_acc = metrics.accuracy_score(ytest, preds)\n",
        "        accuracies.append(fold_acc)\n",
        "\n",
        "    return -1.0 * np.mean(accuracies)"
      ]
    },
    {
      "cell_type": "code",
      "execution_count": 123,
      "metadata": {
        "colab": {
          "base_uri": "https://localhost:8080/"
        },
        "id": "IgNvva3nk_dO",
        "outputId": "5a14f3b4-1a3c-4fb3-9a8a-179e97b85790"
      },
      "outputs": [
        {
          "output_type": "stream",
          "name": "stdout",
          "text": [
            "100%|██████████| 15/15 [03:17<00:00, 13.18s/trial, best loss: -0.906]\n",
            "{'criterion': 1, 'max_depth': 13.0, 'max_features': 0.8162855192816482, 'n_estimators': 592.0}\n"
          ]
        }
      ],
      "source": [
        "#Defining the range of hyperparameters values\n",
        "param_space = {\n",
        "    \"max_depth\": scope.int(hp.quniform(\"max_depth\", 3, 15, 1)),\n",
        "    \"n_estimators\": scope.int(hp.quniform(\"n_estimators\", 100, 600, 1)),\n",
        "    \"criterion\": hp.choice(\"criterion\", [\"gini\", \"entropy\"]),\n",
        "    \"max_features\": hp.uniform(\"max_features\", 0.01, 1)\n",
        "}\n",
        "# Creating a list to store all set/list of hyperparameters values\n",
        "list_of_all_params_hyperopt=[]\n",
        "optimization_function = partial(\n",
        "    optimize,\n",
        "    x=X,\n",
        "    y=y,\n",
        "    list_of_all_params_hyperopt=list_of_all_params_hyperopt\n",
        ")\n",
        "\n",
        "trials = Trials() # It would be nice to see exactly what is happening inside the hyperopt black box. The Trials object allows us to do just that.\n",
        "\n",
        "result = fmin(\n",
        "    fn=optimization_function,\n",
        "    space=param_space,\n",
        "    algo=tpe.suggest,\n",
        "    max_evals=15,\n",
        "    trials=trials,\n",
        ")\n",
        "\n",
        "print(result)"
      ]
    },
    {
      "cell_type": "code",
      "source": [
        "print(list_of_all_params_hyperopt)"
      ],
      "metadata": {
        "colab": {
          "base_uri": "https://localhost:8080/"
        },
        "id": "2pBBO496UPEV",
        "outputId": "7b554b3d-6b3f-4437-ceba-5551e7ee2107"
      },
      "execution_count": 124,
      "outputs": [
        {
          "output_type": "stream",
          "name": "stdout",
          "text": [
            "[['gini', 14, 0.1322571218423532, 376], ['gini', 9, 0.8327273771699873, 232], ['entropy', 6, 0.24177490462307846, 457], ['entropy', 14, 0.8342129578627616, 248], ['gini', 6, 0.8052829996808377, 234], ['entropy', 10, 0.6189655756317284, 369], ['entropy', 14, 0.8883895194898679, 171], ['entropy', 13, 0.8162855192816482, 592], ['gini', 11, 0.10464068431376523, 513], ['entropy', 3, 0.6333199329129594, 503], ['entropy', 7, 0.8626314751958779, 569], ['gini', 10, 0.6626603652845969, 374], ['gini', 14, 0.7426076807410158, 164], ['entropy', 10, 0.3047838187479377, 587], ['entropy', 9, 0.3833165909968004, 458]]\n"
          ]
        }
      ]
    },
    {
      "cell_type": "code",
      "execution_count": 127,
      "metadata": {
        "colab": {
          "base_uri": "https://localhost:8080/"
        },
        "id": "aLJ7NyLTk_dP",
        "outputId": "56a8121f-cae6-496d-a5e3-c51e6a3351a5"
      },
      "outputs": [
        {
          "output_type": "stream",
          "name": "stdout",
          "text": [
            "optimized  hyperparameters: {'criterion': 1, 'max_depth': 13.0, 'max_features': 0.8162855192816482, 'n_estimators': 592.0}\n"
          ]
        }
      ],
      "source": [
        "# Print the optimized  hyperparameters\n",
        "print(\"optimized  hyperparameters:\", result)"
      ]
    },
    {
      "cell_type": "code",
      "execution_count": 126,
      "metadata": {
        "id": "o_EeN9A_k_dP"
      },
      "outputs": [],
      "source": [
        "# Train the model with the result/optimized  hyperparameters\n",
        "best_params = {\n",
        "    'max_depth': int(result['max_depth']),\n",
        "    'n_estimators': int(result['n_estimators']),\n",
        "    'criterion': ['gini', 'entropy'][result['criterion']],\n",
        "    'max_features': result['max_features']\n",
        "}\n"
      ]
    },
    {
      "cell_type": "code",
      "execution_count": 129,
      "metadata": {
        "id": "QZ4yA-kkk_dQ"
      },
      "outputs": [],
      "source": [
        "# Train the model with the best hyperparameters\n",
        "best_clf = RandomForestClassifier(**best_params, n_jobs=-1, random_state=42)\n",
        "cross_val_scores = cross_val_score(best_clf, X, y, scoring='accuracy', cv=5)"
      ]
    },
    {
      "cell_type": "code",
      "execution_count": 130,
      "metadata": {
        "colab": {
          "base_uri": "https://localhost:8080/"
        },
        "id": "_LLV-yNXk_dQ",
        "outputId": "7a33f70c-8ae1-45d2-8f75-e1ef36b99bf7"
      },
      "outputs": [
        {
          "output_type": "stream",
          "name": "stdout",
          "text": [
            "ROC AUC (One-vs-Rest): 0.9910524443598764\n"
          ]
        }
      ],
      "source": [
        "# Evaluation of the ROC-AUC score for the optimized hyperparameters\n",
        "best_clf.fit(x_train, y_train)\n",
        "\n",
        "y_score =  best_clf.predict_proba(x_test)  # Predicted probabilities for all classes\n",
        "roc_auc = roc_auc_score(y_test, y_score, multi_class='ovr')\n",
        "print(\"ROC AUC (One-vs-Rest):\", roc_auc)"
      ]
    },
    {
      "cell_type": "code",
      "execution_count": 131,
      "metadata": {
        "colab": {
          "base_uri": "https://localhost:8080/"
        },
        "id": "a73l2sONk_dQ",
        "outputId": "8a4a710d-9f5e-44b3-b1fd-76aebf599cd1"
      },
      "outputs": [
        {
          "output_type": "stream",
          "name": "stdout",
          "text": [
            "Cross-validation scores: [0.9125 0.925  0.9075 0.8925 0.9   ]\n",
            "Mean cross-validation score: 0.9075000000000001\n"
          ]
        }
      ],
      "source": [
        "\n",
        "# Print the cross-validation scores\n",
        "print(\"Cross-validation scores:\", cross_val_scores)\n",
        "print(\"Mean cross-validation score:\", cross_val_scores.mean())"
      ]
    },
    {
      "cell_type": "code",
      "execution_count": 132,
      "metadata": {
        "colab": {
          "base_uri": "https://localhost:8080/",
          "height": 407
        },
        "id": "aRYZ6-dUk_dR",
        "outputId": "83bbd73a-f883-411a-ce65-000bf857f60b"
      },
      "outputs": [
        {
          "output_type": "display_data",
          "data": {
            "text/plain": [
              "<Figure size 1000x400 with 1 Axes>"
            ],
            "image/png": "[encoded data removed]"
          },
          "metadata": {}
        }
      ],
      "source": [
        "from sklearn.ensemble import RandomForestClassifier\n",
        "from sklearn import metrics\n",
        "import numpy as np\n",
        "from sklearn.metrics import roc_auc_score\n",
        "import matplotlib.pyplot as plt\n",
        "\n",
        "train_scores = []\n",
        "val_scores = []\n",
        "roc_score_hyperopt = []\n",
        "for para in list_of_all_params_hyperopt:\n",
        "    # Initialize classifier with current n_estimators\n",
        "    classifier = RandomForestClassifier(criterion =para[0], max_depth = int(para[1]), n_estimators = int(para[3]),\n",
        "                                             max_features = float(para[2]), n_jobs=-1, random_state=42)\n",
        "\n",
        "    # Train the classifier\n",
        "    classifier.fit(x_train, y_train)\n",
        "\n",
        "    # Predict probabilities for ROC AUC calculation\n",
        "    y_train_score = classifier.predict_proba(x_train)\n",
        "    y_val_score = classifier.predict_proba(x_test)\n",
        "\n",
        "    # Compute ROC AUC scores\n",
        "    train_roc_auc = roc_auc_score(y_train, y_train_score, multi_class='ovr')\n",
        "    val_roc_auc = roc_auc_score(y_test, y_val_score, multi_class='ovr')\n",
        "\n",
        "    # Store scores\n",
        "    train_scores.append(train_roc_auc)\n",
        "    val_scores.append(val_roc_auc)\n",
        "    roc_score_hyperopt.append(val_roc_auc)\n",
        "# Plotting the learning curves\n",
        "plt.figure(figsize=(10, 4))\n",
        "plt.plot(scaling_x, train_scores, marker='o', label='Training ROC AUC')\n",
        "plt.plot(scaling_x, val_scores, marker='o', label='Validation ROC AUC')\n",
        "plt.xlabel('Number of Iterations')\n",
        "plt.ylabel('ROC AUC Score')\n",
        "plt.title('Learning Curve')\n",
        "plt.legend()\n",
        "plt.grid(True)\n",
        "plt.tight_layout()\n",
        "plt.show()\n",
        "\n"
      ]
    },
    {
      "cell_type": "markdown",
      "source": [
        "# Learning Rate Distribution Curve Comparison Of Bayesian optimisation & Hyperopt"
      ],
      "metadata": {
        "id": "gYkxOjslvQC5"
      }
    },
    {
      "cell_type": "code",
      "source": [
        "plt.figure(figsize=(10, 4))\n",
        "plt.plot(scaling_x, roc_score_hyperopt, marker='o', label='ROC AUC Hyperopt')\n",
        "plt.plot(scaling_x, roc_score_BO, marker='o', label='ROC AUC BO')\n",
        "plt.xlabel('Learning Curve Comparison')\n",
        "plt.ylabel('ROC AUC Score')\n",
        "plt.title('Number of Iterations')\n",
        "plt.legend()\n",
        "plt.grid(True)\n",
        "plt.tight_layout()\n",
        "plt.show()"
      ],
      "metadata": {
        "colab": {
          "base_uri": "https://localhost:8080/",
          "height": 407
        },
        "id": "JtYUGx-aZVoY",
        "outputId": "296b2e3b-4a5e-43d8-ad6d-48d42e35d20b"
      },
      "execution_count": 133,
      "outputs": [
        {
          "output_type": "display_data",
          "data": {
            "text/plain": [
              "<Figure size 1000x400 with 1 Axes>"
            ],
            "image/png": "[encoded data removed]"
          },
          "metadata": {}
        }
      ]
    }
  ],
  "metadata": {
    "kernelspec": {
      "display_name": "Python 3 (ipykernel)",
      "language": "python",
      "name": "python3"
    },
    "language_info": {
      "codemirror_mode": {
        "name": "ipython",
        "version": 3
      },
      "file_extension": ".py",
      "mimetype": "text/x-python",
      "name": "python",
      "nbconvert_exporter": "python",
      "pygments_lexer": "ipython3",
      "version": "3.12.3"
    },
    "colab": {
      "provenance": []
    }
  },
  "nbformat": 4,
  "nbformat_minor": 0
}